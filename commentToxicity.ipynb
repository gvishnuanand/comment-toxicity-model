{
 "cells": [
  {
   "cell_type": "code",
   "execution_count": null,
   "id": "51298393-0324-4a2a-a495-531eebde2e54",
   "metadata": {
    "tags": []
   },
   "outputs": [],
   "source": [
    "!pip install tensorflow tensorflow-gpu pandas matplotlib scikit-learn"
   ]
  },
  {
   "cell_type": "code",
   "execution_count": null,
   "id": "6267e56c-7e76-4327-b086-d09587e68cac",
   "metadata": {},
   "outputs": [],
   "source": [
    "#Import required Libraries\n",
    "import os\n",
    "import pandas as pd\n",
    "import tensorflow as tf\n",
    "import numpy as np"
   ]
  },
  {
   "cell_type": "code",
   "execution_count": null,
   "id": "869ca08d-e928-48b4-803e-69d9ccf229f1",
   "metadata": {},
   "outputs": [],
   "source": [
    "#Read data using Pandas\n",
    "data = pd.read_csv(os.path.join('jigsaw-toxic-comment-classification-challenge','train.csv', 'train.csv'))"
   ]
  },
  {
   "cell_type": "code",
   "execution_count": null,
   "id": "6b6bf28e-ee35-4d44-bbe8-bedf0d5c555c",
   "metadata": {},
   "outputs": [],
   "source": [
    "#Preprocess the data\n",
    "from tensorflow.keras.layers import TextVectorization"
   ]
  },
  {
   "cell_type": "code",
   "execution_count": null,
   "id": "09741055-5351-4433-88db-d7f557fb22cc",
   "metadata": {},
   "outputs": [],
   "source": [
    "X = data['comment_text']\n",
    "y = data[data.columns[2:]].values"
   ]
  },
  {
   "cell_type": "code",
   "execution_count": null,
   "id": "75c24432-dd58-4c90-8728-3474ebe0a8a4",
   "metadata": {},
   "outputs": [],
   "source": [
    "#Number of word in the Vocabulary\n",
    "MAX_FEATURES = 200000 "
   ]
  },
  {
   "cell_type": "code",
   "execution_count": null,
   "id": "4d7e8e21-6bdb-4406-be4a-c091050ce240",
   "metadata": {},
   "outputs": [],
   "source": [
    "vectorizer = TextVectorization(max_tokens=MAX_FEATURES,\n",
    "                               output_sequence_length=1800,\n",
    "                               output_mode='int')"
   ]
  },
  {
   "cell_type": "code",
   "execution_count": null,
   "id": "a4f4e4ad-0cd3-4e0d-be74-06e667243dca",
   "metadata": {},
   "outputs": [],
   "source": [
    "#Teach the vectorizer the Vocabulary from our data\n",
    "vectorizer.adapt(X.values)"
   ]
  },
  {
   "cell_type": "code",
   "execution_count": null,
   "id": "a326b654-882d-4d82-b6af-d4727d8b3f58",
   "metadata": {},
   "outputs": [],
   "source": [
    "#Pass all our comment text to the vectorizer\n",
    "vectorized_text = vectorizer(X.values)"
   ]
  },
  {
   "cell_type": "code",
   "execution_count": null,
   "id": "07a7de5c-c849-4aa2-aad2-196076f0e699",
   "metadata": {},
   "outputs": [],
   "source": [
    "#Creating a TensorFlow data pipeline\n",
    "dataset = tf.data.Dataset.from_tensor_slices((vectorized_text, y))\n",
    "dataset = dataset.cache()\n",
    "dataset = dataset.shuffle(160000)\n",
    "dataset = dataset.batch(16)\n",
    "dataset = dataset.prefetch(8)"
   ]
  },
  {
   "cell_type": "code",
   "execution_count": null,
   "id": "36042402-f7e2-461d-b586-8b8c01c2938b",
   "metadata": {},
   "outputs": [],
   "source": [
    "#Partition the data\n",
    "train = dataset.take(int(len(dataset)*.7))\n",
    "val = dataset.skip(int(len(dataset)*.7)).take(int(len(dataset)*.2))\n",
    "test = dataset.skip(int(len(dataset)*.9)).take(int(len(dataset)*.1))"
   ]
  },
  {
   "cell_type": "code",
   "execution_count": null,
   "id": "2b50ddc7-4494-4370-9020-9d8a7755a7ea",
   "metadata": {},
   "outputs": [],
   "source": [
    "#Imports for Sequential Neural Networks\n",
    "from tensorflow.keras.models import Sequential\n",
    "from tensorflow.keras.layers import LSTM, Dropout, Bidirectional, Dense, Embedding"
   ]
  },
  {
   "cell_type": "code",
   "execution_count": null,
   "id": "57043c90-5b01-4293-af76-46d8896dd9da",
   "metadata": {},
   "outputs": [],
   "source": [
    "model = Sequential()\n",
    "# Create the embedding layer \n",
    "model.add(Embedding(MAX_FEATURES+1, 32))\n",
    "# Bidirectional LSTM Layer- GPU acceleration required for LSTM needs to have tanh activation function\n",
    "model.add(Bidirectional(LSTM(32, activation='tanh')))\n",
    "# Feature extractor Fully connected layers\n",
    "model.add(Dense(128, activation='relu'))\n",
    "model.add(Dense(256, activation='relu'))\n",
    "model.add(Dense(128, activation='relu'))\n",
    "# Final layer \n",
    "model.add(Dense(6, activation='sigmoid'))"
   ]
  },
  {
   "cell_type": "code",
   "execution_count": null,
   "id": "f47623bd-eb77-4a84-9c06-d179984b74a2",
   "metadata": {},
   "outputs": [],
   "source": [
    "model.compile(loss='BinaryCrossentropy', optimizer='Adam')"
   ]
  },
  {
   "cell_type": "code",
   "execution_count": null,
   "id": "9d7fb6dc-1fc0-4044-91e3-f0c7424a3794",
   "metadata": {},
   "outputs": [],
   "source": [
    "model.summary()"
   ]
  },
  {
   "cell_type": "code",
   "execution_count": null,
   "id": "427b94dc-3406-45dc-8406-8b821dfce3f1",
   "metadata": {},
   "outputs": [],
   "source": [
    "#Train the model\n",
    "history = model.fit(train, epochs=10, validation_data=val)"
   ]
  },
  {
   "cell_type": "code",
   "execution_count": null,
   "id": "5e790326-39ad-43a4-a762-7d773f03ff1d",
   "metadata": {},
   "outputs": [],
   "source": [
    "#Plot the graph\n",
    "from matplotlib import pyplot as plt\n",
    "plt.figure(figsize=(8,5))\n",
    "pd.DataFrame(history.history).plot()\n",
    "plt.show()"
   ]
  },
  {
   "cell_type": "code",
   "execution_count": null,
   "id": "12fdf4f7-0ece-4eb3-9ccd-e025ea90c901",
   "metadata": {},
   "outputs": [],
   "source": [
    "#Predict\n",
    "input_text = vectorizer('Thank you for your help!')\n"
   ]
  },
  {
   "cell_type": "code",
   "execution_count": null,
   "id": "5df5e7fc-3378-4b8a-9d4a-8a05a417a34f",
   "metadata": {},
   "outputs": [],
   "source": [
    "res=model.predict(np.expand_dims(input_text,axis=0))"
   ]
  },
  {
   "cell_type": "code",
   "execution_count": null,
   "id": "ccbbcf9c-1b62-4eb7-8e9f-38cf7a25c94b",
   "metadata": {},
   "outputs": [],
   "source": [
    "(res > 0.5).astype(int)"
   ]
  },
  {
   "cell_type": "code",
   "execution_count": null,
   "id": "0906d93d-7bd8-42e7-bca2-9d063ac874e2",
   "metadata": {},
   "outputs": [],
   "source": [
    "#Evaluate the Model\n",
    "from tensorflow.keras.metrics import Precision, Recall, CategoricalAccuracy\n",
    "pre = Precision()\n",
    "re = Recall()\n",
    "acc = CategoricalAccuracy()\n"
   ]
  },
  {
   "cell_type": "code",
   "execution_count": null,
   "id": "73f9d552-bc76-4052-b4f7-6e440f4eb512",
   "metadata": {
    "scrolled": true,
    "tags": []
   },
   "outputs": [],
   "source": [
    "for batch in test.as_numpy_iterator(): \n",
    "    # Unpack the batch \n",
    "    X_true, y_true = batch\n",
    "    # Make a prediction \n",
    "    yhat = model.predict(X_true)\n",
    "    \n",
    "    # Flatten the predictions\n",
    "    y_true = y_true.flatten()\n",
    "    yhat = yhat.flatten()\n",
    "    \n",
    "    pre.update_state(y_true, yhat)\n",
    "    re.update_state(y_true, yhat)\n",
    "    acc.update_state(y_true, yhat)"
   ]
  },
  {
   "cell_type": "code",
   "execution_count": null,
   "id": "efc4aaad-3eba-4591-aa89-bf1a29722470",
   "metadata": {},
   "outputs": [],
   "source": [
    "print(f'Precision: {pre.result().numpy()}, Recall:{re.result().numpy()}, Accuracy:{acc.result().numpy()}')"
   ]
  },
  {
   "cell_type": "code",
   "execution_count": null,
   "id": "405a572a-a6cc-4ddf-ac2a-cf352c4131fa",
   "metadata": {},
   "outputs": [],
   "source": [
    "#Save the model\n",
    "model.save('toxicity.h5')"
   ]
  },
  {
   "cell_type": "code",
   "execution_count": null,
   "id": "b76170e7-41a1-4b6a-8c69-5d3c30f2be82",
   "metadata": {
    "tags": []
   },
   "outputs": [],
   "source": [
    "#Integrate the model into Gradio App\n",
    "!pip install gradio jinja2"
   ]
  },
  {
   "cell_type": "code",
   "execution_count": null,
   "id": "7ba05611-aebf-4934-b0c9-200b0b2e3691",
   "metadata": {},
   "outputs": [],
   "source": [
    "import gradio as gr"
   ]
  },
  {
   "cell_type": "code",
   "execution_count": null,
   "id": "45262535-d537-4056-8b99-2fda0f333b62",
   "metadata": {},
   "outputs": [],
   "source": [
    "#Load the model If used at a different environment\n",
    "#model = tf.keras.models.load_model('toxicity.h5')"
   ]
  },
  {
   "cell_type": "code",
   "execution_count": null,
   "id": "e6e0e343-0aee-4392-bf4f-84344423b652",
   "metadata": {},
   "outputs": [],
   "source": [
    "def score_comment(comment):\n",
    "    vectorized_comment = vectorizer([comment])\n",
    "    results = model.predict(vectorized_comment)\n",
    "    \n",
    "    text = ''\n",
    "    for idx, col in enumerate(data.columns[2:]):\n",
    "        text += '{}: {}\\n'.format(col, results[0][idx]>0.5)\n",
    "    \n",
    "    return text"
   ]
  },
  {
   "cell_type": "code",
   "execution_count": null,
   "id": "7c632e94-fca4-441a-90dd-6237b62fe23e",
   "metadata": {},
   "outputs": [],
   "source": [
    "interface = gr.Interface(fn=score_comment, \n",
    "                         inputs=[\"text\"],\n",
    "                        outputs=[\"text\"])"
   ]
  },
  {
   "cell_type": "code",
   "execution_count": null,
   "id": "af0fa72c-f8a6-4ffc-a35f-879f806c5a93",
   "metadata": {},
   "outputs": [],
   "source": [
    "interface.launch(share=True,show_error=True)"
   ]
  },
  {
   "cell_type": "code",
   "execution_count": null,
   "id": "9ad4b218-f313-4163-8d5c-ecd1504329f2",
   "metadata": {},
   "outputs": [],
   "source": []
  }
 ],
 "metadata": {
  "kernelspec": {
   "display_name": "imageclassification",
   "language": "python",
   "name": "imageclassification"
  },
  "language_info": {
   "codemirror_mode": {
    "name": "ipython",
    "version": 3
   },
   "file_extension": ".py",
   "mimetype": "text/x-python",
   "name": "python",
   "nbconvert_exporter": "python",
   "pygments_lexer": "ipython3",
   "version": "3.9.13"
  }
 },
 "nbformat": 4,
 "nbformat_minor": 5
}
